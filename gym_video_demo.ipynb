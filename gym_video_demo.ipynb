{
 "cells": [
  {
   "cell_type": "code",
   "execution_count": null,
   "metadata": {},
   "outputs": [],
   "source": [
    "!pip install gym"
   ]
  },
  {
   "cell_type": "code",
   "execution_count": null,
   "metadata": {},
   "outputs": [],
   "source": [
    "!pip install gym pyvirtualdisplay > /dev/null 2>&1\n",
    "!apt-get install -y xvfb python-opengl ffmpeg > /dev/null 2>&1"
   ]
  },
  {
   "cell_type": "code",
   "execution_count": 1,
   "metadata": {},
   "outputs": [
    {
     "name": "stderr",
     "output_type": "stream",
     "text": [
      "xdpyinfo was not found, X start can not be checked! Please install xdpyinfo!\n"
     ]
    },
    {
     "data": {
      "text/plain": [
       "<Display cmd_param=['Xvfb', '-br', '-nolisten', 'tcp', '-screen', '0', '1400x900x24', ':1013'] cmd=['Xvfb', '-br', '-nolisten', 'tcp', '-screen', '0', '1400x900x24', ':1013'] oserror=None return_code=None stdout=\"None\" stderr=\"None\" timeout_happened=False>"
      ]
     },
     "execution_count": 1,
     "metadata": {},
     "output_type": "execute_result"
    }
   ],
   "source": [
    "# https://stackoverflow.com/questions/40195740/how-to-run-openai-gym-render-over-a-server\n",
    "from pyvirtualdisplay import Display\n",
    "\n",
    "virtual_display = Display(visible=0, size=(1400, 900))\n",
    "virtual_display.start()"
   ]
  },
  {
   "cell_type": "code",
   "execution_count": 4,
   "metadata": {},
   "outputs": [
    {
     "name": "stdout",
     "output_type": "stream",
     "text": [
      "Episode: 0,\tSteps: 26,\tscore: 26.0\n",
      "Episode: 1,\tSteps: 16,\tscore: 16.0\n",
      "Episode: 2,\tSteps: 15,\tscore: 15.0\n",
      "Episode: 3,\tSteps: 13,\tscore: 13.0\n",
      "Episode: 4,\tSteps: 37,\tscore: 37.0\n",
      "Episode: 5,\tSteps: 18,\tscore: 18.0\n",
      "Episode: 6,\tSteps: 15,\tscore: 15.0\n",
      "Episode: 7,\tSteps: 23,\tscore: 23.0\n",
      "Episode: 8,\tSteps: 23,\tscore: 23.0\n",
      "Episode: 9,\tSteps: 18,\tscore: 18.0\n"
     ]
    }
   ],
   "source": [
    "import gym\n",
    "from gym import wrappers\n",
    "import time\n",
    "\n",
    "logdir = './video/' + time.strftime(\"%d-%m-%Y_%H-%M-%S\")\n",
    "\n",
    "env = gym.make('CartPole-v0')\n",
    "env = wrappers.Monitor(env, logdir, force=True, video_callable=lambda episode_id: True)\n",
    "\n",
    "for episode in range(10):\n",
    "    observation = env.reset()\n",
    "    step = 0\n",
    "    total_reward = 0\n",
    "\n",
    "    while True:\n",
    "        step += 1\n",
    "        env.render()\n",
    "        action = env.action_space.sample()\n",
    "        observation, reward, done, info = env.step(action)\n",
    "        total_reward += reward\n",
    "        if done:\n",
    "            print(\"Episode: {0},\\tSteps: {1},\\tscore: {2}\"\n",
    "                  .format(episode, step, total_reward)\n",
    "            )\n",
    "            break\n",
    "env.close()\n"
   ]
  },
  {
   "cell_type": "code",
   "execution_count": 5,
   "metadata": {},
   "outputs": [],
   "source": [
    "import os\n",
    "import io\n",
    "import base64\n",
    "from IPython.display import display, HTML\n",
    "\n",
    "def ipython_show_video(path):\n",
    "    \"\"\"Show a video at `path` within IPython Notebook\n",
    "    \"\"\"\n",
    "    if not os.path.isfile(path):\n",
    "        raise NameError(\"Cannot access: {}\".format(path))\n",
    "\n",
    "    video = io.open(path, 'r+b').read()\n",
    "    encoded = base64.b64encode(video)\n",
    "\n",
    "    display(HTML(\n",
    "        data=\"\"\"\n",
    "        <video alt=\"test\" controls>\n",
    "        <source src=\"data:video/mp4;base64,{0}\" type=\"video/mp4\" />\n",
    "        </video>\n",
    "        \"\"\".format(encoded.decode('ascii'))\n",
    "    ))\n"
   ]
  },
  {
   "cell_type": "code",
   "execution_count": 6,
   "metadata": {},
   "outputs": [
    {
     "data": {
      "text/html": [
       "\n",
       "        <video alt=\"test\" controls>\n",
       "        <source src=\"data:video/mp4;base64,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\" type=\"video/mp4\" />\n",
       "        </video>\n",
       "        "
      ],
      "text/plain": [
       "<IPython.core.display.HTML object>"
      ]
     },
     "metadata": {},
     "output_type": "display_data"
    }
   ],
   "source": [
    "ipython_show_video(logdir + '/openaigym.video.0.5216.video000004.mp4')"
   ]
  },
  {
   "cell_type": "code",
   "execution_count": null,
   "metadata": {},
   "outputs": [],
   "source": []
  }
 ],
 "metadata": {
  "kernelspec": {
   "display_name": "Python 3",
   "language": "python",
   "name": "python3"
  },
  "language_info": {
   "codemirror_mode": {
    "name": "ipython",
    "version": 3
   },
   "file_extension": ".py",
   "mimetype": "text/x-python",
   "name": "python",
   "nbconvert_exporter": "python",
   "pygments_lexer": "ipython3",
   "version": "3.6.9"
  }
 },
 "nbformat": 4,
 "nbformat_minor": 2
}
